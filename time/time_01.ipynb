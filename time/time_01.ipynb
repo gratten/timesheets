{
 "cells": [
  {
   "cell_type": "code",
   "execution_count": 166,
   "id": "40bd176a",
   "metadata": {},
   "outputs": [],
   "source": [
    "import pandas as pd"
   ]
  },
  {
   "cell_type": "code",
   "execution_count": 167,
   "id": "7d2de329",
   "metadata": {
    "scrolled": true
   },
   "outputs": [],
   "source": [
    "FILENAME = 'Ward, Gratten 2021_Timesheet_2021-07-26.xls'\n",
    "\n",
    "df = pd.read_excel(FILENAME,\n",
    "                  skiprows=19,\n",
    "                  usecols=('A:K'))"
   ]
  },
  {
   "cell_type": "code",
   "execution_count": 169,
   "id": "e14ba159",
   "metadata": {},
   "outputs": [],
   "source": [
    "df.columns = ['order', 'desc', 'sequence', 'activity', 1, 2, 3, 4, 5, 6, 7]"
   ]
  },
  {
   "cell_type": "code",
   "execution_count": 170,
   "id": "df8b19e1",
   "metadata": {},
   "outputs": [],
   "source": [
    "df = df.iloc[:df['order'].isnull().values.argmax()]"
   ]
  },
  {
   "cell_type": "code",
   "execution_count": 172,
   "id": "b2eadc7d",
   "metadata": {},
   "outputs": [],
   "source": [
    "df['labor'] = df.iloc[:, 4:11].sum(axis=1)"
   ]
  },
  {
   "cell_type": "code",
   "execution_count": 173,
   "id": "6df8e7b3",
   "metadata": {
    "scrolled": true
   },
   "outputs": [],
   "source": [
    "df = df.loc[:, df.columns.intersection(['order', 'sequence', 'activity', 'labor'])]"
   ]
  },
  {
   "cell_type": "code",
   "execution_count": 176,
   "id": "845340ab",
   "metadata": {},
   "outputs": [],
   "source": [
    "df = df.groupby(['order', 'sequence', 'activity']).sum().reset_index()"
   ]
  },
  {
   "cell_type": "code",
   "execution_count": 177,
   "id": "bc136c40",
   "metadata": {},
   "outputs": [
    {
     "data": {
      "text/html": [
       "<div>\n",
       "<style scoped>\n",
       "    .dataframe tbody tr th:only-of-type {\n",
       "        vertical-align: middle;\n",
       "    }\n",
       "\n",
       "    .dataframe tbody tr th {\n",
       "        vertical-align: top;\n",
       "    }\n",
       "\n",
       "    .dataframe thead th {\n",
       "        text-align: right;\n",
       "    }\n",
       "</style>\n",
       "<table border=\"1\" class=\"dataframe\">\n",
       "  <thead>\n",
       "    <tr style=\"text-align: right;\">\n",
       "      <th></th>\n",
       "      <th>order</th>\n",
       "      <th>sequence</th>\n",
       "      <th>activity</th>\n",
       "      <th>labor</th>\n",
       "    </tr>\n",
       "  </thead>\n",
       "  <tbody>\n",
       "    <tr>\n",
       "      <th>0</th>\n",
       "      <td>AE-21</td>\n",
       "      <td>0.0</td>\n",
       "      <td>49.0</td>\n",
       "      <td>2.0</td>\n",
       "    </tr>\n",
       "    <tr>\n",
       "      <th>1</th>\n",
       "      <td>AE-21</td>\n",
       "      <td>0.0</td>\n",
       "      <td>50.0</td>\n",
       "      <td>1.5</td>\n",
       "    </tr>\n",
       "    <tr>\n",
       "      <th>2</th>\n",
       "      <td>J4155</td>\n",
       "      <td>2.0</td>\n",
       "      <td>10.0</td>\n",
       "      <td>6.0</td>\n",
       "    </tr>\n",
       "  </tbody>\n",
       "</table>\n",
       "</div>"
      ],
      "text/plain": [
       "   order  sequence  activity  labor\n",
       "0  AE-21       0.0      49.0    2.0\n",
       "1  AE-21       0.0      50.0    1.5\n",
       "2  J4155       2.0      10.0    6.0"
      ]
     },
     "execution_count": 177,
     "metadata": {},
     "output_type": "execute_result"
    }
   ],
   "source": [
    "df"
   ]
  },
  {
   "cell_type": "code",
   "execution_count": 178,
   "id": "3c784d9a",
   "metadata": {},
   "outputs": [],
   "source": [
    "# df = df[['order', 'sequence', 'activity', 'labor']]"
   ]
  },
  {
   "cell_type": "code",
   "execution_count": 179,
   "id": "aeda7a42",
   "metadata": {},
   "outputs": [],
   "source": [
    "# df.to_excel('output.xlsx')"
   ]
  },
  {
   "cell_type": "code",
   "execution_count": null,
   "id": "fab66f1f",
   "metadata": {},
   "outputs": [],
   "source": []
  }
 ],
 "metadata": {
  "kernelspec": {
   "display_name": "Python 3 (ipykernel)",
   "language": "python",
   "name": "python3"
  },
  "language_info": {
   "codemirror_mode": {
    "name": "ipython",
    "version": 3
   },
   "file_extension": ".py",
   "mimetype": "text/x-python",
   "name": "python",
   "nbconvert_exporter": "python",
   "pygments_lexer": "ipython3",
   "version": "3.9.6"
  }
 },
 "nbformat": 4,
 "nbformat_minor": 5
}
